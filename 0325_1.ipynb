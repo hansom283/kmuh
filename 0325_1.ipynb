{
  "nbformat": 4,
  "nbformat_minor": 0,
  "metadata": {
    "colab": {
      "provenance": [],
      "authorship_tag": "ABX9TyPsuyF7vZ2q62i2mqOnFPgQ",
      "include_colab_link": true
    },
    "kernelspec": {
      "name": "python3",
      "display_name": "Python 3"
    },
    "language_info": {
      "name": "python"
    }
  },
  "cells": [
    {
      "cell_type": "markdown",
      "metadata": {
        "id": "view-in-github",
        "colab_type": "text"
      },
      "source": [
        "<a href=\"https://colab.research.google.com/github/hansom283/kmuh/blob/main/0325_1.ipynb\" target=\"_parent\"><img src=\"https://colab.research.google.com/assets/colab-badge.svg\" alt=\"Open In Colab\"/></a>"
      ]
    },
    {
      "cell_type": "code",
      "execution_count": null,
      "metadata": {
        "id": "aaSvZMs3bhg4"
      },
      "outputs": [],
      "source": [
        "import json\n",
        "import pandas as pd\n",
        "import urllib.request as req\n",
        "\n",
        "url = \"https://www.google.com/doodles/json/2022/11?hl=zh-TW\"\n",
        "response = req.urlopen(url)\n",
        "# response->檔案型態(支援.read())\n",
        "# json,load(檔案) -> list/dict型態\n",
        "data_json = json.load(response)\n",
        "# pd.DataFrame(表格型態)\n",
        "data_table = pd.json_normalize(data_json)\n",
        "# 如果你要存檔\n",
        "data_table.to_csv(\"doodle.csv\", encoding=\"utf-8\")"
      ]
    },
    {
      "cell_type": "markdown",
      "source": [
        "20230325 AI實體課程\n",
        "人類思考\n",
        "1.\t公式化\n",
        "2.\t經驗化\n",
        "3.\t機器學習:傳統統計(表格)\n",
        "4.\t深度學習:模仿神經網路(圖片/影片/語言…)\n",
        "\n",
        "latex math\n",
        "$ \\frac{1}{2}∑_{i=1}^n (x - μ)^2$"
      ],
      "metadata": {
        "id": "b1Z8ksQ2e_y7"
      }
    },
    {
      "cell_type": "markdown",
      "source": [
        "**JSON格式**\n",
        "\n",
        "1.list型態(同類型):[60, 30, 20]\n",
        "\n",
        "2.dict型態(聚集表示複雜型態):{\"姓名\":\"hansom283\", \"身高\":175}\n",
        "\n",
        "**key-value**\n",
        "\n",
        "1.list:key1(0, 1, 2) key2(-3, -2, -1)\n",
        "\n",
        "2.dict:key自定義(數字/字串/tuple)\n",
        "\n",
        "\n",
        "key-value最重要的操作(查詢):要查的東西[key]\n",
        "\n",
        "list[0]/dict[\"姓名\"]"
      ],
      "metadata": {
        "id": "BTlVjBYHljzs"
      }
    }
  ]
}